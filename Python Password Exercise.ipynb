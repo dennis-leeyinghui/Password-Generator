{
 "cells": [
  {
   "cell_type": "code",
   "execution_count": 34,
   "metadata": {
    "collapsed": false,
    "deletable": true,
    "editable": true
   },
   "outputs": [
    {
     "name": "stdout",
     "output_type": "stream",
     "text": [
      "How long is the password?   20\n",
      "EPOR)N)EXQ(Df&^NSkVt\n",
      "file written to python_password.txt\n"
     ]
    }
   ],
   "source": [
    "# Password Generator\n",
    "# Save to file after Generated\n",
    "\n",
    "import math\n",
    "import random\n",
    "import re\n",
    "\n",
    "# Generator\n",
    "choice = \"abcdefghijklmnopqrstuvwxyzABCDEFGHIJKLMNOPQRSTUVWXYZ!@#$%^&*()\"\n",
    "\n",
    "password = \"\"\n",
    "\n",
    "def randomNumber():\n",
    "    rand = random.random()\n",
    "    return (rand)\n",
    "\n",
    "def fileWrite():\n",
    "    file = open(\"python_password.txt\", \"w\")\n",
    "    file.write(password)\n",
    "    file.close()\n",
    "\n",
    "def generator():\n",
    "    global password\n",
    "    length = int(input(\"How long is the password?   \"))\n",
    "    for l in range(length):\n",
    "        rand = randomNumber()\n",
    "        password += (\"\".join(choice[(math.floor( rand * 62))]))\n",
    "    print (password)\n",
    "    fileWrite()\n",
    "    print (\"file written to python_password.txt\")\n",
    "    \n",
    "def fileWrite():\n",
    "    with open(\"python_password.txt\", \"a\") as file:\n",
    "        file.write(\"\\n\" + password + \"\\n\")\n",
    "    file.close()\n",
    "      \n",
    "def main():\n",
    "    generator()\n",
    "\n",
    "if __name__ == '__main__':\n",
    "    main()\n"
   ]
  },
  {
   "cell_type": "code",
   "execution_count": null,
   "metadata": {
    "collapsed": true,
    "deletable": true,
    "editable": true
   },
   "outputs": [],
   "source": []
  },
  {
   "cell_type": "code",
   "execution_count": null,
   "metadata": {
    "collapsed": true,
    "deletable": true,
    "editable": true
   },
   "outputs": [],
   "source": []
  },
  {
   "cell_type": "code",
   "execution_count": null,
   "metadata": {
    "collapsed": true,
    "deletable": true,
    "editable": true
   },
   "outputs": [],
   "source": []
  },
  {
   "cell_type": "code",
   "execution_count": null,
   "metadata": {
    "collapsed": true,
    "deletable": true,
    "editable": true
   },
   "outputs": [],
   "source": []
  }
 ],
 "metadata": {
  "kernelspec": {
   "display_name": "Python 3",
   "language": "python",
   "name": "python3"
  },
  "language_info": {
   "codemirror_mode": {
    "name": "ipython",
    "version": 3
   },
   "file_extension": ".py",
   "mimetype": "text/x-python",
   "name": "python",
   "nbconvert_exporter": "python",
   "pygments_lexer": "ipython3",
   "version": "3.5.2"
  }
 },
 "nbformat": 4,
 "nbformat_minor": 2
}
